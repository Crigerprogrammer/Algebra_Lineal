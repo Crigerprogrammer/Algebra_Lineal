{
  "nbformat": 4,
  "nbformat_minor": 0,
  "metadata": {
    "colab": {
      "name": "regresion.ipynb",
      "provenance": []
    },
    "kernelspec": {
      "name": "python3",
      "display_name": "Python 3"
    }
  },
  "cells": [
    {
      "cell_type": "code",
      "metadata": {
        "id": "9Oo8WpwJ0CkT"
      },
      "source": [
        "import matplotlib.pyplot as plt\r\n",
        "import pandas as pd\r\n",
        "import numpy as np"
      ],
      "execution_count": 3,
      "outputs": []
    },
    {
      "cell_type": "code",
      "metadata": {
        "id": "O_LaAZrV0e66"
      },
      "source": [
        "df = pd.read_csv('income_db_gorg.csv')"
      ],
      "execution_count": 8,
      "outputs": []
    },
    {
      "cell_type": "code",
      "metadata": {
        "colab": {
          "base_uri": "https://localhost:8080/"
        },
        "id": "vIbeLwYb1Kuq",
        "outputId": "d12aab25-b5c1-49a1-b568-4e3834f46a48"
      },
      "source": [
        "len(df.columns)"
      ],
      "execution_count": 10,
      "outputs": [
        {
          "output_type": "execute_result",
          "data": {
            "text/plain": [
              "19"
            ]
          },
          "metadata": {
            "tags": []
          },
          "execution_count": 10
        }
      ]
    },
    {
      "cell_type": "code",
      "metadata": {
        "colab": {
          "base_uri": "https://localhost:8080/",
          "height": 309
        },
        "id": "QVPPngGX2wiZ",
        "outputId": "05abc499-1470-4dbf-901d-4fbbb93332cf"
      },
      "source": [
        "df.head()"
      ],
      "execution_count": 11,
      "outputs": [
        {
          "output_type": "execute_result",
          "data": {
            "text/html": [
              "<div>\n",
              "<style scoped>\n",
              "    .dataframe tbody tr th:only-of-type {\n",
              "        vertical-align: middle;\n",
              "    }\n",
              "\n",
              "    .dataframe tbody tr th {\n",
              "        vertical-align: top;\n",
              "    }\n",
              "\n",
              "    .dataframe thead th {\n",
              "        text-align: right;\n",
              "    }\n",
              "</style>\n",
              "<table border=\"1\" class=\"dataframe\">\n",
              "  <thead>\n",
              "    <tr style=\"text-align: right;\">\n",
              "      <th></th>\n",
              "      <th>id</th>\n",
              "      <th>State_Code</th>\n",
              "      <th>State_Name</th>\n",
              "      <th>State_ab</th>\n",
              "      <th>County</th>\n",
              "      <th>City</th>\n",
              "      <th>Place</th>\n",
              "      <th>Type</th>\n",
              "      <th>Primary</th>\n",
              "      <th>Zip_Code</th>\n",
              "      <th>Area_Code</th>\n",
              "      <th>ALand</th>\n",
              "      <th>AWater</th>\n",
              "      <th>Lat</th>\n",
              "      <th>Lon</th>\n",
              "      <th>Mean</th>\n",
              "      <th>Median</th>\n",
              "      <th>Stdev</th>\n",
              "      <th>sum_w</th>\n",
              "    </tr>\n",
              "  </thead>\n",
              "  <tbody>\n",
              "    <tr>\n",
              "      <th>0</th>\n",
              "      <td>1011000</td>\n",
              "      <td>1</td>\n",
              "      <td>Alabama</td>\n",
              "      <td>AL</td>\n",
              "      <td>Mobile County</td>\n",
              "      <td>Chickasaw</td>\n",
              "      <td>Chickasaw city</td>\n",
              "      <td>City</td>\n",
              "      <td>place</td>\n",
              "      <td>36611</td>\n",
              "      <td>251</td>\n",
              "      <td>10894952</td>\n",
              "      <td>909156</td>\n",
              "      <td>30.771450</td>\n",
              "      <td>-88.079697</td>\n",
              "      <td>38773</td>\n",
              "      <td>30506</td>\n",
              "      <td>33101</td>\n",
              "      <td>1638.260513</td>\n",
              "    </tr>\n",
              "    <tr>\n",
              "      <th>1</th>\n",
              "      <td>1011010</td>\n",
              "      <td>1</td>\n",
              "      <td>Alabama</td>\n",
              "      <td>AL</td>\n",
              "      <td>Barbour County</td>\n",
              "      <td>Louisville</td>\n",
              "      <td>Clio city</td>\n",
              "      <td>City</td>\n",
              "      <td>place</td>\n",
              "      <td>36048</td>\n",
              "      <td>334</td>\n",
              "      <td>26070325</td>\n",
              "      <td>23254</td>\n",
              "      <td>31.708516</td>\n",
              "      <td>-85.611039</td>\n",
              "      <td>37725</td>\n",
              "      <td>19528</td>\n",
              "      <td>43789</td>\n",
              "      <td>258.017685</td>\n",
              "    </tr>\n",
              "    <tr>\n",
              "      <th>2</th>\n",
              "      <td>1011020</td>\n",
              "      <td>1</td>\n",
              "      <td>Alabama</td>\n",
              "      <td>AL</td>\n",
              "      <td>Shelby County</td>\n",
              "      <td>Columbiana</td>\n",
              "      <td>Columbiana city</td>\n",
              "      <td>City</td>\n",
              "      <td>place</td>\n",
              "      <td>35051</td>\n",
              "      <td>205</td>\n",
              "      <td>44835274</td>\n",
              "      <td>261034</td>\n",
              "      <td>33.191452</td>\n",
              "      <td>-86.615618</td>\n",
              "      <td>54606</td>\n",
              "      <td>31930</td>\n",
              "      <td>57348</td>\n",
              "      <td>926.031000</td>\n",
              "    </tr>\n",
              "    <tr>\n",
              "      <th>3</th>\n",
              "      <td>1011030</td>\n",
              "      <td>1</td>\n",
              "      <td>Alabama</td>\n",
              "      <td>AL</td>\n",
              "      <td>Mobile County</td>\n",
              "      <td>Satsuma</td>\n",
              "      <td>Creola city</td>\n",
              "      <td>City</td>\n",
              "      <td>place</td>\n",
              "      <td>36572</td>\n",
              "      <td>251</td>\n",
              "      <td>36878729</td>\n",
              "      <td>2374530</td>\n",
              "      <td>30.874343</td>\n",
              "      <td>-88.009442</td>\n",
              "      <td>63919</td>\n",
              "      <td>52814</td>\n",
              "      <td>47707</td>\n",
              "      <td>378.114619</td>\n",
              "    </tr>\n",
              "    <tr>\n",
              "      <th>4</th>\n",
              "      <td>1011040</td>\n",
              "      <td>1</td>\n",
              "      <td>Alabama</td>\n",
              "      <td>AL</td>\n",
              "      <td>Mobile County</td>\n",
              "      <td>Dauphin Island</td>\n",
              "      <td>Dauphin Island</td>\n",
              "      <td>Town</td>\n",
              "      <td>place</td>\n",
              "      <td>36528</td>\n",
              "      <td>251</td>\n",
              "      <td>16204185</td>\n",
              "      <td>413605152</td>\n",
              "      <td>30.250913</td>\n",
              "      <td>-88.171268</td>\n",
              "      <td>77948</td>\n",
              "      <td>67225</td>\n",
              "      <td>54270</td>\n",
              "      <td>282.320328</td>\n",
              "    </tr>\n",
              "  </tbody>\n",
              "</table>\n",
              "</div>"
            ],
            "text/plain": [
              "        id  State_Code State_Name State_ab  ...   Mean Median  Stdev        sum_w\n",
              "0  1011000           1    Alabama       AL  ...  38773  30506  33101  1638.260513\n",
              "1  1011010           1    Alabama       AL  ...  37725  19528  43789   258.017685\n",
              "2  1011020           1    Alabama       AL  ...  54606  31930  57348   926.031000\n",
              "3  1011030           1    Alabama       AL  ...  63919  52814  47707   378.114619\n",
              "4  1011040           1    Alabama       AL  ...  77948  67225  54270   282.320328\n",
              "\n",
              "[5 rows x 19 columns]"
            ]
          },
          "metadata": {
            "tags": []
          },
          "execution_count": 11
        }
      ]
    },
    {
      "cell_type": "code",
      "metadata": {
        "id": "XnG5Qn-X2ypu"
      },
      "source": [
        ""
      ],
      "execution_count": null,
      "outputs": []
    }
  ]
}