{
  "nbformat": 4,
  "nbformat_minor": 0,
  "metadata": {
    "colab": {
      "name": "distancias.ipynb",
      "provenance": []
    },
    "kernelspec": {
      "name": "python3",
      "display_name": "Python 3"
    }
  },
  "cells": [
    {
      "cell_type": "code",
      "metadata": {
        "id": "wwbLigOLuhfI"
      },
      "source": [
        "import numpy as np"
      ],
      "execution_count": 1,
      "outputs": []
    },
    {
      "cell_type": "code",
      "metadata": {
        "id": "xLygGwJourx4"
      },
      "source": [
        "u = np.array([1,1])"
      ],
      "execution_count": 2,
      "outputs": []
    },
    {
      "cell_type": "code",
      "metadata": {
        "id": "ChJJPMg_uxF4"
      },
      "source": [
        "def norma(x):\r\n",
        "  return np.sqrt(x@x)"
      ],
      "execution_count": 3,
      "outputs": []
    },
    {
      "cell_type": "code",
      "metadata": {
        "colab": {
          "base_uri": "https://localhost:8080/"
        },
        "id": "GUOuzPNLu1Qt",
        "outputId": "e8baa873-7f50-43d4-8acb-993db0b027c9"
      },
      "source": [
        "norma(u)"
      ],
      "execution_count": 4,
      "outputs": [
        {
          "output_type": "execute_result",
          "data": {
            "text/plain": [
              "1.4142135623730951"
            ]
          },
          "metadata": {
            "tags": []
          },
          "execution_count": 4
        }
      ]
    },
    {
      "cell_type": "code",
      "metadata": {
        "id": "0-lViD5RvbJy"
      },
      "source": [
        "v = np.array([-1,1])"
      ],
      "execution_count": 6,
      "outputs": []
    },
    {
      "cell_type": "code",
      "metadata": {
        "colab": {
          "base_uri": "https://localhost:8080/"
        },
        "id": "Y1hNvQsaveoF",
        "outputId": "8f461a51-73a1-4c3a-82a0-19fce4a812f5"
      },
      "source": [
        "print(norma(u+v))"
      ],
      "execution_count": 7,
      "outputs": [
        {
          "output_type": "stream",
          "text": [
            "2.0\n"
          ],
          "name": "stdout"
        }
      ]
    },
    {
      "cell_type": "code",
      "metadata": {
        "id": "U3aLjqlgxUr4"
      },
      "source": [
        "a = np.array([1,1])\r\n",
        "b = np.array([-2,3])"
      ],
      "execution_count": 8,
      "outputs": []
    },
    {
      "cell_type": "code",
      "metadata": {
        "id": "ISAG53_Txa0Q"
      },
      "source": [
        "c = a - b"
      ],
      "execution_count": 9,
      "outputs": []
    },
    {
      "cell_type": "code",
      "metadata": {
        "colab": {
          "base_uri": "https://localhost:8080/"
        },
        "id": "H96a5MvyxebW",
        "outputId": "dd439780-fbcd-46ea-bc05-e8a0f94fe2e4"
      },
      "source": [
        "print(c)"
      ],
      "execution_count": 10,
      "outputs": [
        {
          "output_type": "stream",
          "text": [
            "[ 3 -2]\n"
          ],
          "name": "stdout"
        }
      ]
    },
    {
      "cell_type": "code",
      "metadata": {
        "colab": {
          "base_uri": "https://localhost:8080/"
        },
        "id": "4oy2-A9u2aZr",
        "outputId": "ee62b834-ca5a-4c75-e914-f92e865d5d67"
      },
      "source": [
        "norma(c)"
      ],
      "execution_count": 11,
      "outputs": [
        {
          "output_type": "execute_result",
          "data": {
            "text/plain": [
              "3.605551275463989"
            ]
          },
          "metadata": {
            "tags": []
          },
          "execution_count": 11
        }
      ]
    },
    {
      "cell_type": "code",
      "metadata": {
        "colab": {
          "base_uri": "https://localhost:8080/"
        },
        "id": "ab1GWbbd2dXm",
        "outputId": "63bc0720-83b9-4dc5-e06e-b8fd6016701b"
      },
      "source": [
        "norma(a-b)"
      ],
      "execution_count": 12,
      "outputs": [
        {
          "output_type": "execute_result",
          "data": {
            "text/plain": [
              "3.605551275463989"
            ]
          },
          "metadata": {
            "tags": []
          },
          "execution_count": 12
        }
      ]
    },
    {
      "cell_type": "code",
      "metadata": {
        "colab": {
          "base_uri": "https://localhost:8080/"
        },
        "id": "Adtq8hEq2iaJ",
        "outputId": "35fd9c9d-3a13-4fcd-94d6-338608d5417f"
      },
      "source": [
        "np.linalg.norm(a-b)"
      ],
      "execution_count": 13,
      "outputs": [
        {
          "output_type": "execute_result",
          "data": {
            "text/plain": [
              "3.605551275463989"
            ]
          },
          "metadata": {
            "tags": []
          },
          "execution_count": 13
        }
      ]
    },
    {
      "cell_type": "markdown",
      "metadata": {
        "id": "OhmHnDNP8fdT"
      },
      "source": [
        "## Busqueda de apartamento\r\n"
      ]
    },
    {
      "cell_type": "code",
      "metadata": {
        "id": "_jhmCdRg8g6E"
      },
      "source": [
        " I = np.array([3,2,2,1])\r\n",
        " A_1 = np.array([4,3,3,3])\r\n",
        " A_2 = np.array([3,3,2,1])\r\n",
        " A_3 = np.array([5,4,3,0])"
      ],
      "execution_count": 14,
      "outputs": []
    },
    {
      "cell_type": "code",
      "metadata": {
        "colab": {
          "base_uri": "https://localhost:8080/"
        },
        "id": "AJL7ef9F8tUZ",
        "outputId": "46588262-e7af-4f79-daab-70da1b98a734"
      },
      "source": [
        "print(np.linalg.norm(I-A_1))\r\n",
        "print(np.linalg.norm(I-A_2))\r\n",
        "print(np.linalg.norm(I-A_3))"
      ],
      "execution_count": 15,
      "outputs": [
        {
          "output_type": "stream",
          "text": [
            "2.6457513110645907\n",
            "1.0\n",
            "3.1622776601683795\n"
          ],
          "name": "stdout"
        }
      ]
    }
  ]
}